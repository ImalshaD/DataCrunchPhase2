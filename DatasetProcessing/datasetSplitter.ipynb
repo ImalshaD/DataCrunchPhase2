{
 "cells": [
  {
   "cell_type": "code",
   "execution_count": 24,
   "id": "0ee78e62",
   "metadata": {},
   "outputs": [],
   "source": [
    "import pandas as pd"
   ]
  },
  {
   "cell_type": "code",
   "execution_count": 25,
   "id": "4dd488d1",
   "metadata": {},
   "outputs": [],
   "source": [
    "weather_data = pd.read_csv('altered_new_price.csv')"
   ]
  },
  {
   "cell_type": "code",
   "execution_count": 26,
   "id": "749ef86f",
   "metadata": {},
   "outputs": [
    {
     "data": {
      "text/html": [
       "<div>\n",
       "<style scoped>\n",
       "    .dataframe tbody tr th:only-of-type {\n",
       "        vertical-align: middle;\n",
       "    }\n",
       "\n",
       "    .dataframe tbody tr th {\n",
       "        vertical-align: top;\n",
       "    }\n",
       "\n",
       "    .dataframe thead th {\n",
       "        text-align: right;\n",
       "    }\n",
       "</style>\n",
       "<table border=\"1\" class=\"dataframe\">\n",
       "  <thead>\n",
       "    <tr style=\"text-align: right;\">\n",
       "      <th></th>\n",
       "      <th>Date</th>\n",
       "      <th>Region</th>\n",
       "      <th>Commodity</th>\n",
       "      <th>Price per Unit (Silver Drachma/kg)</th>\n",
       "      <th>Type</th>\n",
       "    </tr>\n",
       "  </thead>\n",
       "  <tbody>\n",
       "    <tr>\n",
       "      <th>0</th>\n",
       "      <td>2040-01-01</td>\n",
       "      <td>Mystic Falls</td>\n",
       "      <td>Plantain</td>\n",
       "      <td>296.37</td>\n",
       "      <td>Fruit</td>\n",
       "    </tr>\n",
       "    <tr>\n",
       "      <th>1</th>\n",
       "      <td>2040-01-01</td>\n",
       "      <td>Winterfell</td>\n",
       "      <td>Snow Peas</td>\n",
       "      <td>366.70</td>\n",
       "      <td>Vegetable</td>\n",
       "    </tr>\n",
       "    <tr>\n",
       "      <th>2</th>\n",
       "      <td>2040-01-01</td>\n",
       "      <td>Rivendell</td>\n",
       "      <td>Snow Peas</td>\n",
       "      <td>387.78</td>\n",
       "      <td>Vegetable</td>\n",
       "    </tr>\n",
       "    <tr>\n",
       "      <th>3</th>\n",
       "      <td>2040-01-01</td>\n",
       "      <td>Gotham</td>\n",
       "      <td>Snow Peas</td>\n",
       "      <td>286.04</td>\n",
       "      <td>Vegetable</td>\n",
       "    </tr>\n",
       "    <tr>\n",
       "      <th>4</th>\n",
       "      <td>2040-01-01</td>\n",
       "      <td>Atlantis</td>\n",
       "      <td>Snow Peas</td>\n",
       "      <td>185.45</td>\n",
       "      <td>Vegetable</td>\n",
       "    </tr>\n",
       "    <tr>\n",
       "      <th>...</th>\n",
       "      <td>...</td>\n",
       "      <td>...</td>\n",
       "      <td>...</td>\n",
       "      <td>...</td>\n",
       "      <td>...</td>\n",
       "    </tr>\n",
       "    <tr>\n",
       "      <th>259995</th>\n",
       "      <td>2044-09-09</td>\n",
       "      <td>Pandora</td>\n",
       "      <td>Durian</td>\n",
       "      <td>235.45</td>\n",
       "      <td>Vegetable</td>\n",
       "    </tr>\n",
       "    <tr>\n",
       "      <th>259996</th>\n",
       "      <td>2044-09-09</td>\n",
       "      <td>Asgard</td>\n",
       "      <td>Durian</td>\n",
       "      <td>62.36</td>\n",
       "      <td>Vegetable</td>\n",
       "    </tr>\n",
       "    <tr>\n",
       "      <th>259997</th>\n",
       "      <td>2044-09-09</td>\n",
       "      <td>Wakanda</td>\n",
       "      <td>Durian</td>\n",
       "      <td>281.84</td>\n",
       "      <td>Vegetable</td>\n",
       "    </tr>\n",
       "    <tr>\n",
       "      <th>259998</th>\n",
       "      <td>2044-09-09</td>\n",
       "      <td>Valhalla</td>\n",
       "      <td>Starfruit</td>\n",
       "      <td>428.27</td>\n",
       "      <td>Fruit</td>\n",
       "    </tr>\n",
       "    <tr>\n",
       "      <th>259999</th>\n",
       "      <td>2044-09-09</td>\n",
       "      <td>Asgard</td>\n",
       "      <td>Yam</td>\n",
       "      <td>486.39</td>\n",
       "      <td>Vegetable</td>\n",
       "    </tr>\n",
       "  </tbody>\n",
       "</table>\n",
       "<p>260000 rows × 5 columns</p>\n",
       "</div>"
      ],
      "text/plain": [
       "              Date        Region  Commodity  \\\n",
       "0       2040-01-01  Mystic Falls   Plantain   \n",
       "1       2040-01-01    Winterfell  Snow Peas   \n",
       "2       2040-01-01     Rivendell  Snow Peas   \n",
       "3       2040-01-01        Gotham  Snow Peas   \n",
       "4       2040-01-01      Atlantis  Snow Peas   \n",
       "...            ...           ...        ...   \n",
       "259995  2044-09-09       Pandora     Durian   \n",
       "259996  2044-09-09        Asgard     Durian   \n",
       "259997  2044-09-09       Wakanda     Durian   \n",
       "259998  2044-09-09      Valhalla  Starfruit   \n",
       "259999  2044-09-09        Asgard        Yam   \n",
       "\n",
       "        Price per Unit (Silver Drachma/kg)       Type  \n",
       "0                                   296.37      Fruit  \n",
       "1                                   366.70  Vegetable  \n",
       "2                                   387.78  Vegetable  \n",
       "3                                   286.04  Vegetable  \n",
       "4                                   185.45  Vegetable  \n",
       "...                                    ...        ...  \n",
       "259995                              235.45  Vegetable  \n",
       "259996                               62.36  Vegetable  \n",
       "259997                              281.84  Vegetable  \n",
       "259998                              428.27      Fruit  \n",
       "259999                              486.39  Vegetable  \n",
       "\n",
       "[260000 rows x 5 columns]"
      ]
     },
     "execution_count": 26,
     "metadata": {},
     "output_type": "execute_result"
    }
   ],
   "source": [
    "weather_data"
   ]
  },
  {
   "cell_type": "code",
   "execution_count": 27,
   "id": "971d105d",
   "metadata": {},
   "outputs": [],
   "source": [
    "weather_data['Date'] = pd.to_datetime(weather_data['Date'])"
   ]
  },
  {
   "cell_type": "code",
   "execution_count": 28,
   "id": "db1e15b2",
   "metadata": {},
   "outputs": [],
   "source": [
    "weather_data = weather_data.sort_values(by='Date')"
   ]
  },
  {
   "cell_type": "code",
   "execution_count": 29,
   "id": "85d95623",
   "metadata": {},
   "outputs": [
    {
     "name": "stdout",
     "output_type": "stream",
     "text": [
      "Train size: 181730, Eval size: 26184, Test size: 52086\n"
     ]
    }
   ],
   "source": [
    "# Define the split points\n",
    "test_start_date = '2044-01-01'\n",
    "eval_start_date = '2043-07-01'\n",
    "\n",
    "# Create the splits\n",
    "test_data = weather_data[weather_data['Date'] >= test_start_date]\n",
    "eval_data = weather_data[(weather_data['Date'] >= eval_start_date) & (weather_data['Date'] < test_start_date)]\n",
    "train_data = weather_data[weather_data['Date'] < eval_start_date]\n",
    "\n",
    "# Display the sizes of each split\n",
    "print(f\"Train size: {len(train_data)}, Eval size: {len(eval_data)}, Test size: {len(test_data)}\")"
   ]
  },
  {
   "cell_type": "code",
   "execution_count": 30,
   "id": "68b357c7",
   "metadata": {},
   "outputs": [
    {
     "name": "stdout",
     "output_type": "stream",
     "text": [
      "Datasets have been written to the 'priceData' folder.\n"
     ]
    }
   ],
   "source": [
    "import os\n",
    "\n",
    "# Create the folder if it doesn't exist\n",
    "os.makedirs('priceData', exist_ok=True)\n",
    "\n",
    "# Write the datasets to CSV files\n",
    "train_data.to_csv('priceData/train_data.csv', index=False)\n",
    "eval_data.to_csv('priceData/eval_data.csv', index=False)\n",
    "test_data.to_csv('priceData/test_data.csv', index=False)\n",
    "\n",
    "print(\"Datasets have been written to the 'priceData' folder.\")"
   ]
  },
  {
   "cell_type": "code",
   "execution_count": 33,
   "id": "9c1b989e",
   "metadata": {},
   "outputs": [],
   "source": [
    "import pandas as pd\n",
    "import json\n",
    "\n",
    "df1 = pd.read_csv('priceData/eval_data.csv')\n",
    "df2 = pd.read_csv('weatherData/eval_data.csv')\n",
    "# Ensure 'date' columns are string type for JSON keys\n",
    "df1['Date'] = df1['Date'].astype(str)\n",
    "df2['Date'] = df2['Date'].astype(str)\n",
    "\n",
    "# Combine both DataFrames\n",
    "combined = pd.concat([df1, df2], ignore_index=True)\n",
    "\n",
    "# Group by date and convert each group to a list of dicts\n",
    "grouped = combined.groupby('Date')\n",
    "\n",
    "# Build dictionary\n",
    "date_dict = {\n",
    "    date: group.drop(columns='Date').to_dict(orient='records')\n",
    "    for date, group in grouped\n",
    "}\n",
    "\n",
    "# Dump to JSON file\n",
    "with open('eval.json', 'w') as f:\n",
    "    json.dump(date_dict, f, indent=2)"
   ]
  }
 ],
 "metadata": {
  "kernelspec": {
   "display_name": "Python 3",
   "language": "python",
   "name": "python3"
  },
  "language_info": {
   "codemirror_mode": {
    "name": "ipython",
    "version": 3
   },
   "file_extension": ".py",
   "mimetype": "text/x-python",
   "name": "python",
   "nbconvert_exporter": "python",
   "pygments_lexer": "ipython3",
   "version": "3.11.3"
  }
 },
 "nbformat": 4,
 "nbformat_minor": 5
}
